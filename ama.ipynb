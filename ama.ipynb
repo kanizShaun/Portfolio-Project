{
 "cells": [
  {
   "cell_type": "code",
   "execution_count": 2,
   "metadata": {},
   "outputs": [],
   "source": [
    "from bs4 import BeautifulSoup\n",
    "import requests,openpyxl\n",
    "from  requests_html import HTMLSession\n",
    "import smtplib\n",
    "import time\n",
    "import datetime\n",
    "import csv"
   ]
  },
  {
   "cell_type": "code",
   "execution_count": 3,
   "metadata": {},
   "outputs": [
    {
     "name": "stdout",
     "output_type": "stream",
     "text": [
      "['Sheet']\n"
     ]
    }
   ],
   "source": [
    "file = openpyxl.Workbook()\n",
    "print(file.sheetnames)\n"
   ]
  },
  {
   "cell_type": "code",
   "execution_count": 4,
   "metadata": {},
   "outputs": [
    {
     "name": "stdout",
     "output_type": "stream",
     "text": [
      "['Highest Rated IMDb movies']\n"
     ]
    }
   ],
   "source": [
    "sheet = file.active\n",
    "sheet.title = 'Highest Rated IMDb movies'\n",
    "print(file.sheetnames)"
   ]
  },
  {
   "cell_type": "code",
   "execution_count": 5,
   "metadata": {},
   "outputs": [
    {
     "name": "stdout",
     "output_type": "stream",
     "text": [
      "1 <a href=\"/title/tt0111161/\" title=\"Frank Darabont (dir.), Tim Robbins, Morgan Freeman\">The Shawshank Redemption</a> 1994 9.2\n",
      "Cannot convert <a href=\"/title/tt0111161/\" title=\"Frank Darabont (dir.), Tim Robbins, Morgan Freeman\">The Shawshank Redemption</a> to Excel\n"
     ]
    }
   ],
   "source": [
    "sheet.append(['Movie Rank', 'Movie Name', 'Year of Release', 'IMDb Ratings'])\n",
    "try:\n",
    "    url = requests.get('https://www.imdb.com/chart/top/')\n",
    "    url.raise_for_status()\n",
    "    soup = BeautifulSoup(url.text, 'html.parser')\n",
    "    movies =soup.find('tbody', class_ = \"lister-list\").find_all('tr')\n",
    "    for movie in movies:\n",
    "        name = movie.find('td',class_= 'titleColumn').a.text\n",
    "        rank = movie.find('td',class_= 'titleColumn').get_text(strip = True).split('.')[0]\n",
    "        year = movie.find('td',class_= 'titleColumn').span.text.strip('()')\n",
    "        rating = movie.find('td',class_= 'ratingColumn imdbRating').strong.text\n",
    "        print(rank, name, year, rating)\n",
    "        sheet.append([rank, name, year, rating])\n",
    "except Exception as e:\n",
    "    print(e)\n",
    "file.save('Highest Rated IMDb movies.xlsx')"
   ]
  },
  {
   "cell_type": "code",
   "execution_count": null,
   "metadata": {},
   "outputs": [],
   "source": [
    "def getnextpage(soup):\n",
    "    page = soup.find()"
   ]
  }
 ],
 "metadata": {
  "interpreter": {
   "hash": "5e02d0efff813a9368c354e505ea65821711dca306094a6f79d155d3e22f7a88"
  },
  "kernelspec": {
   "display_name": "Python 3.10.0 64-bit",
   "language": "python",
   "name": "python3"
  },
  "language_info": {
   "codemirror_mode": {
    "name": "ipython",
    "version": 3
   },
   "file_extension": ".py",
   "mimetype": "text/x-python",
   "name": "python",
   "nbconvert_exporter": "python",
   "pygments_lexer": "ipython3",
   "version": "3.10.0"
  },
  "orig_nbformat": 4
 },
 "nbformat": 4,
 "nbformat_minor": 2
}
